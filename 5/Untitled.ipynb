{
 "cells": [
  {
   "cell_type": "code",
   "execution_count": 41,
   "metadata": {},
   "outputs": [],
   "source": [
    "kids <- c('Jack', 'Jill', 'John')\n",
    "ages <- c(12, 10, 8)\n",
    "score <- c(5, 6, 3)\n",
    "d <- data.frame(kids, ages, score, stringsAsFactors = FALSE)"
   ]
  },
  {
   "cell_type": "code",
   "execution_count": 56,
   "metadata": {},
   "outputs": [
    {
     "data": {
      "text/html": [
       "<table>\n",
       "<thead><tr><th scope=col>ages</th><th scope=col>score</th></tr></thead>\n",
       "<tbody>\n",
       "\t<tr><td>12</td><td>5 </td></tr>\n",
       "\t<tr><td>10</td><td>6 </td></tr>\n",
       "\t<tr><td> 8</td><td>3 </td></tr>\n",
       "</tbody>\n",
       "</table>\n"
      ],
      "text/latex": [
       "\\begin{tabular}{r|ll}\n",
       " ages & score\\\\\n",
       "\\hline\n",
       "\t 12 & 5 \\\\\n",
       "\t 10 & 6 \\\\\n",
       "\t  8 & 3 \\\\\n",
       "\\end{tabular}\n"
      ],
      "text/markdown": [
       "\n",
       "ages | score | \n",
       "|---|---|---|\n",
       "| 12 | 5  | \n",
       "| 10 | 6  | \n",
       "|  8 | 3  | \n",
       "\n",
       "\n"
      ],
      "text/plain": [
       "  ages score\n",
       "1 12   5    \n",
       "2 10   6    \n",
       "3  8   3    "
      ]
     },
     "metadata": {},
     "output_type": "display_data"
    }
   ],
   "source": [
    "d[, -1]"
   ]
  },
  {
   "cell_type": "code",
   "execution_count": 57,
   "metadata": {},
   "outputs": [
    {
     "data": {
      "text/html": [
       "<ol class=list-inline>\n",
       "\t<li>'Jack'</li>\n",
       "\t<li>'Jill'</li>\n",
       "\t<li>'John'</li>\n",
       "</ol>\n"
      ],
      "text/latex": [
       "\\begin{enumerate*}\n",
       "\\item 'Jack'\n",
       "\\item 'Jill'\n",
       "\\item 'John'\n",
       "\\end{enumerate*}\n"
      ],
      "text/markdown": [
       "1. 'Jack'\n",
       "2. 'Jill'\n",
       "3. 'John'\n",
       "\n",
       "\n"
      ],
      "text/plain": [
       "[1] \"Jack\" \"Jill\" \"John\""
      ]
     },
     "metadata": {},
     "output_type": "display_data"
    }
   ],
   "source": [
    "l <- list(kids = kids, ages = ages)\n",
    "l$k"
   ]
  },
  {
   "cell_type": "code",
   "execution_count": 26,
   "metadata": {},
   "outputs": [
    {
     "data": {
      "text/html": [
       "'data.frame'"
      ],
      "text/latex": [
       "'data.frame'"
      ],
      "text/markdown": [
       "'data.frame'"
      ],
      "text/plain": [
       "[1] \"data.frame\""
      ]
     },
     "metadata": {},
     "output_type": "display_data"
    }
   ],
   "source": [
    "class(d[1])"
   ]
  },
  {
   "cell_type": "code",
   "execution_count": 55,
   "metadata": {
    "collapsed": true
   },
   "outputs": [],
   "source": [
    "?count.fields"
   ]
  }
 ],
 "metadata": {
  "kernelspec": {
   "display_name": "R",
   "language": "R",
   "name": "ir"
  },
  "language_info": {
   "codemirror_mode": "r",
   "file_extension": ".r",
   "mimetype": "text/x-r-source",
   "name": "R",
   "pygments_lexer": "r",
   "version": "3.4.2"
  }
 },
 "nbformat": 4,
 "nbformat_minor": 2
}
